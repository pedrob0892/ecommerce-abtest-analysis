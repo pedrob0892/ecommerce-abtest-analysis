{
 "cells": [
  {
   "cell_type": "markdown",
   "id": "00635257-3998-4723-b504-4fd44907850f",
   "metadata": {},
   "source": [
    "# Objetivo"
   ]
  },
  {
   "cell_type": "markdown",
   "id": "6559786d-74cc-49de-8cb8-b452e25c2f58",
   "metadata": {},
   "source": [
    "<span style=\"color: black; font-family: Arial; font-size: 20px;\">\n",
    "Avaliar e priorizar hipóteses em colaboração com o marketing, conduzindo um teste A/B para identificar métricas sobre receita e conversão entre os dois grupos."
   ]
  },
  {
   "cell_type": "markdown",
   "id": "59647ee5-fdf0-4f25-abce-ea08aea8238b",
   "metadata": {},
   "source": [
    "# Preparando os dados"
   ]
  },
  {
   "cell_type": "code",
   "execution_count": 6,
   "id": "0c7c62d0-430d-4c7f-a766-1663810c275d",
   "metadata": {},
   "outputs": [],
   "source": [
    "# Carregando todas as bibliotecas\n",
    "from scipy import stats as st\n",
    "import numpy as np\n",
    "import scipy.stats as stats\n",
    "import pandas as pd\n",
    "from math import factorial\n",
    "import math\n",
    "import matplotlib.pyplot as plt\n",
    "import seaborn as sns\n",
    "import plotly.express as px"
   ]
  },
  {
   "cell_type": "markdown",
   "id": "dfaa786f-22d6-40ee-90ef-64e039af4d38",
   "metadata": {},
   "source": [
    "### Dataframe Hypotheses"
   ]
  },
  {
   "cell_type": "code",
   "execution_count": 16,
   "id": "965e08ff-1100-473d-b5ef-2860613c81a8",
   "metadata": {},
   "outputs": [
    {
     "name": "stdout",
     "output_type": "stream",
     "text": [
      "<class 'pandas.core.frame.DataFrame'>\n",
      "RangeIndex: 9 entries, 0 to 8\n",
      "Data columns (total 5 columns):\n",
      " #   Column      Non-Null Count  Dtype \n",
      "---  ------      --------------  ----- \n",
      " 0   Hypothesis  9 non-null      object\n",
      " 1   Reach       9 non-null      int64 \n",
      " 2   Impact      9 non-null      int64 \n",
      " 3   Confidence  9 non-null      int64 \n",
      " 4   Effort      9 non-null      int64 \n",
      "dtypes: int64(4), object(1)\n",
      "memory usage: 492.0+ bytes\n"
     ]
    }
   ],
   "source": [
    "# Carregando o dataframe Hypotheses_us\n",
    "hypothesis = pd.read_csv(r\"C:\\Users\\pedro\\Documents\\Dataframes projetos\\ecommerce-ABtest-analysis\\hypotheses_us.csv\", sep=';')\n",
    "hypothesis.info()"
   ]
  },
  {
   "cell_type": "code",
   "execution_count": 18,
   "id": "62febd47-b926-4322-aaf7-8b2497c36af3",
   "metadata": {},
   "outputs": [
    {
     "name": "stdout",
     "output_type": "stream",
     "text": [
      "Index(['hypothesis', 'reach', 'impact', 'confidence', 'effort'], dtype='object')\n"
     ]
    }
   ],
   "source": [
    "# Percorrendo os cabeçalhos e convertendo tudo em minúsculos\n",
    "new_col_names=[]\n",
    "for old_name in hipoteses.columns:\n",
    "    name_lowered=old_name.lower()\n",
    "    new_col_names.append(name_lowered)\n",
    "hypothesis.columns=new_col_names\n",
    "print(hypothesis.columns)"
   ]
  },
  {
   "cell_type": "code",
   "execution_count": 20,
   "id": "bf30cad4-75e1-4381-92d2-f22a1840c32d",
   "metadata": {},
   "outputs": [
    {
     "name": "stdout",
     "output_type": "stream",
     "text": [
      "0\n"
     ]
    }
   ],
   "source": [
    "# Verificando e tratando valores duplicados\n",
    "print(hypothesis.duplicated().sum())"
   ]
  },
  {
   "cell_type": "code",
   "execution_count": 22,
   "id": "014d9a7b-b8a3-4828-a4bc-b2cb63a87735",
   "metadata": {},
   "outputs": [
    {
     "data": {
      "text/html": [
       "<div>\n",
       "<style scoped>\n",
       "    .dataframe tbody tr th:only-of-type {\n",
       "        vertical-align: middle;\n",
       "    }\n",
       "\n",
       "    .dataframe tbody tr th {\n",
       "        vertical-align: top;\n",
       "    }\n",
       "\n",
       "    .dataframe thead th {\n",
       "        text-align: right;\n",
       "    }\n",
       "</style>\n",
       "<table border=\"1\" class=\"dataframe\">\n",
       "  <thead>\n",
       "    <tr style=\"text-align: right;\">\n",
       "      <th></th>\n",
       "      <th>hypothesis</th>\n",
       "      <th>reach</th>\n",
       "      <th>impact</th>\n",
       "      <th>confidence</th>\n",
       "      <th>effort</th>\n",
       "    </tr>\n",
       "  </thead>\n",
       "  <tbody>\n",
       "    <tr>\n",
       "      <th>0</th>\n",
       "      <td>Add two new channels for attracting traffic. T...</td>\n",
       "      <td>3</td>\n",
       "      <td>10</td>\n",
       "      <td>8</td>\n",
       "      <td>6</td>\n",
       "    </tr>\n",
       "    <tr>\n",
       "      <th>1</th>\n",
       "      <td>Launch your own delivery service. This will sh...</td>\n",
       "      <td>2</td>\n",
       "      <td>5</td>\n",
       "      <td>4</td>\n",
       "      <td>10</td>\n",
       "    </tr>\n",
       "    <tr>\n",
       "      <th>2</th>\n",
       "      <td>Add product recommendation blocks to the store...</td>\n",
       "      <td>8</td>\n",
       "      <td>3</td>\n",
       "      <td>7</td>\n",
       "      <td>3</td>\n",
       "    </tr>\n",
       "    <tr>\n",
       "      <th>3</th>\n",
       "      <td>Change the category structure. This will incre...</td>\n",
       "      <td>8</td>\n",
       "      <td>3</td>\n",
       "      <td>3</td>\n",
       "      <td>8</td>\n",
       "    </tr>\n",
       "    <tr>\n",
       "      <th>4</th>\n",
       "      <td>Change the background color on the main page. ...</td>\n",
       "      <td>3</td>\n",
       "      <td>1</td>\n",
       "      <td>1</td>\n",
       "      <td>1</td>\n",
       "    </tr>\n",
       "  </tbody>\n",
       "</table>\n",
       "</div>"
      ],
      "text/plain": [
       "                                          hypothesis  reach  impact  \\\n",
       "0  Add two new channels for attracting traffic. T...      3      10   \n",
       "1  Launch your own delivery service. This will sh...      2       5   \n",
       "2  Add product recommendation blocks to the store...      8       3   \n",
       "3  Change the category structure. This will incre...      8       3   \n",
       "4  Change the background color on the main page. ...      3       1   \n",
       "\n",
       "   confidence  effort  \n",
       "0           8       6  \n",
       "1           4      10  \n",
       "2           7       3  \n",
       "3           3       8  \n",
       "4           1       1  "
      ]
     },
     "execution_count": 22,
     "metadata": {},
     "output_type": "execute_result"
    }
   ],
   "source": [
    "hypothesis.head()"
   ]
  },
  {
   "cell_type": "markdown",
   "id": "75b9df84-7916-48b7-8744-84409c8cd7f0",
   "metadata": {},
   "source": [
    "### Dataframe Orders"
   ]
  },
  {
   "cell_type": "code",
   "execution_count": 30,
   "id": "720e072f-ccfe-432f-9eb6-2e2afbbd16a6",
   "metadata": {},
   "outputs": [
    {
     "name": "stdout",
     "output_type": "stream",
     "text": [
      "<class 'pandas.core.frame.DataFrame'>\n",
      "RangeIndex: 1197 entries, 0 to 1196\n",
      "Data columns (total 5 columns):\n",
      " #   Column         Non-Null Count  Dtype  \n",
      "---  ------         --------------  -----  \n",
      " 0   transactionId  1197 non-null   int64  \n",
      " 1   visitorId      1197 non-null   int64  \n",
      " 2   date           1197 non-null   object \n",
      " 3   revenue        1197 non-null   float64\n",
      " 4   group          1197 non-null   object \n",
      "dtypes: float64(1), int64(2), object(2)\n",
      "memory usage: 46.9+ KB\n"
     ]
    }
   ],
   "source": [
    "# Carregando o dataframe Orders\n",
    "orders = pd.read_csv(r\"C:\\Users\\pedro\\Documents\\Dataframes projetos\\ecommerce-ABtest-analysis\\orders_us.csv\", sep=',')\n",
    "orders.info()"
   ]
  },
  {
   "cell_type": "code",
   "execution_count": 32,
   "id": "b5ecd1e3-bc58-46d8-92a7-4d2dad3e17b7",
   "metadata": {},
   "outputs": [],
   "source": [
    "# Transformando a coluna date em 'DATETIME'\n",
    "orders['date'] = pd.to_datetime(orders['date'])"
   ]
  },
  {
   "cell_type": "code",
   "execution_count": 34,
   "id": "42132545-6f29-45a4-9faf-8090ba6132a9",
   "metadata": {},
   "outputs": [
    {
     "name": "stdout",
     "output_type": "stream",
     "text": [
      "Index(['transaction_id', 'visitor_id', 'date', 'revenue', 'group'], dtype='object')\n"
     ]
    }
   ],
   "source": [
    "# Renomeando as colunas 'transactionId' e 'visitorId'\n",
    "columns_new = {'transactionId': 'transaction_id', 'visitorId': 'visitor_id'}\n",
    "orders.rename(columns=columns_new, inplace=True)\n",
    "print(orders.columns)"
   ]
  },
  {
   "cell_type": "code",
   "execution_count": 36,
   "id": "44a312ad-fe50-4642-afab-e63b9f3967df",
   "metadata": {},
   "outputs": [
    {
     "name": "stdout",
     "output_type": "stream",
     "text": [
      "0\n"
     ]
    }
   ],
   "source": [
    "# Verificando e tratando valores duplicados\n",
    "print(orders.duplicated().sum())"
   ]
  },
  {
   "cell_type": "code",
   "execution_count": 54,
   "id": "e13db060-108c-4b6b-98e8-5f7ca3c6af69",
   "metadata": {},
   "outputs": [
    {
     "data": {
      "text/html": [
       "<div>\n",
       "<style scoped>\n",
       "    .dataframe tbody tr th:only-of-type {\n",
       "        vertical-align: middle;\n",
       "    }\n",
       "\n",
       "    .dataframe tbody tr th {\n",
       "        vertical-align: top;\n",
       "    }\n",
       "\n",
       "    .dataframe thead th {\n",
       "        text-align: right;\n",
       "    }\n",
       "</style>\n",
       "<table border=\"1\" class=\"dataframe\">\n",
       "  <thead>\n",
       "    <tr style=\"text-align: right;\">\n",
       "      <th></th>\n",
       "      <th>transaction_id</th>\n",
       "      <th>visitor_id</th>\n",
       "      <th>date</th>\n",
       "      <th>revenue</th>\n",
       "      <th>group</th>\n",
       "    </tr>\n",
       "  </thead>\n",
       "  <tbody>\n",
       "    <tr>\n",
       "      <th>0</th>\n",
       "      <td>3667963787</td>\n",
       "      <td>3312258926</td>\n",
       "      <td>2019-08-15</td>\n",
       "      <td>30.4</td>\n",
       "      <td>B</td>\n",
       "    </tr>\n",
       "    <tr>\n",
       "      <th>1</th>\n",
       "      <td>2804400009</td>\n",
       "      <td>3642806036</td>\n",
       "      <td>2019-08-15</td>\n",
       "      <td>15.2</td>\n",
       "      <td>B</td>\n",
       "    </tr>\n",
       "    <tr>\n",
       "      <th>2</th>\n",
       "      <td>2961555356</td>\n",
       "      <td>4069496402</td>\n",
       "      <td>2019-08-15</td>\n",
       "      <td>10.2</td>\n",
       "      <td>A</td>\n",
       "    </tr>\n",
       "    <tr>\n",
       "      <th>3</th>\n",
       "      <td>3797467345</td>\n",
       "      <td>1196621759</td>\n",
       "      <td>2019-08-15</td>\n",
       "      <td>155.1</td>\n",
       "      <td>B</td>\n",
       "    </tr>\n",
       "    <tr>\n",
       "      <th>4</th>\n",
       "      <td>2282983706</td>\n",
       "      <td>2322279887</td>\n",
       "      <td>2019-08-15</td>\n",
       "      <td>40.5</td>\n",
       "      <td>B</td>\n",
       "    </tr>\n",
       "  </tbody>\n",
       "</table>\n",
       "</div>"
      ],
      "text/plain": [
       "   transaction_id  visitor_id       date  revenue group\n",
       "0      3667963787  3312258926 2019-08-15     30.4     B\n",
       "1      2804400009  3642806036 2019-08-15     15.2     B\n",
       "2      2961555356  4069496402 2019-08-15     10.2     A\n",
       "3      3797467345  1196621759 2019-08-15    155.1     B\n",
       "4      2282983706  2322279887 2019-08-15     40.5     B"
      ]
     },
     "execution_count": 54,
     "metadata": {},
     "output_type": "execute_result"
    }
   ],
   "source": [
    "orders.head()"
   ]
  },
  {
   "cell_type": "markdown",
   "id": "78a36323-0f60-46ec-b983-b4f376c77035",
   "metadata": {},
   "source": [
    "### Dataframe Visits"
   ]
  },
  {
   "cell_type": "code",
   "execution_count": 44,
   "id": "511d31b1-207f-40da-adb9-77b9204a2cfb",
   "metadata": {},
   "outputs": [
    {
     "name": "stdout",
     "output_type": "stream",
     "text": [
      "<class 'pandas.core.frame.DataFrame'>\n",
      "RangeIndex: 62 entries, 0 to 61\n",
      "Data columns (total 3 columns):\n",
      " #   Column  Non-Null Count  Dtype \n",
      "---  ------  --------------  ----- \n",
      " 0   date    62 non-null     object\n",
      " 1   group   62 non-null     object\n",
      " 2   visits  62 non-null     int64 \n",
      "dtypes: int64(1), object(2)\n",
      "memory usage: 1.6+ KB\n"
     ]
    }
   ],
   "source": [
    "# Carregando o dataframe Visits\n",
    "visits = pd.read_csv(r\"C:\\Users\\pedro\\Documents\\Dataframes projetos\\ecommerce-ABtest-analysis\\visits_us.csv\")\n",
    "visits.info()"
   ]
  },
  {
   "cell_type": "code",
   "execution_count": 46,
   "id": "04aeec74-916e-4a76-b755-5f08eb8c1100",
   "metadata": {},
   "outputs": [],
   "source": [
    "# Transformando a coluna date em 'DATETIME'\n",
    "visits['date'] = pd.to_datetime(visits['date'])"
   ]
  },
  {
   "cell_type": "code",
   "execution_count": 48,
   "id": "4f63e719-b0d1-4523-b84a-0208bb4f51ba",
   "metadata": {},
   "outputs": [
    {
     "name": "stdout",
     "output_type": "stream",
     "text": [
      "0\n"
     ]
    }
   ],
   "source": [
    "# Verificando e tratando valores duplicados\n",
    "print(visits.duplicated().sum())"
   ]
  },
  {
   "cell_type": "code",
   "execution_count": 50,
   "id": "867b815f-b3dd-4617-90d2-f819053ac8a1",
   "metadata": {},
   "outputs": [
    {
     "data": {
      "text/html": [
       "<div>\n",
       "<style scoped>\n",
       "    .dataframe tbody tr th:only-of-type {\n",
       "        vertical-align: middle;\n",
       "    }\n",
       "\n",
       "    .dataframe tbody tr th {\n",
       "        vertical-align: top;\n",
       "    }\n",
       "\n",
       "    .dataframe thead th {\n",
       "        text-align: right;\n",
       "    }\n",
       "</style>\n",
       "<table border=\"1\" class=\"dataframe\">\n",
       "  <thead>\n",
       "    <tr style=\"text-align: right;\">\n",
       "      <th></th>\n",
       "      <th>date</th>\n",
       "      <th>group</th>\n",
       "      <th>visits</th>\n",
       "    </tr>\n",
       "  </thead>\n",
       "  <tbody>\n",
       "    <tr>\n",
       "      <th>0</th>\n",
       "      <td>2019-08-01</td>\n",
       "      <td>A</td>\n",
       "      <td>719</td>\n",
       "    </tr>\n",
       "    <tr>\n",
       "      <th>1</th>\n",
       "      <td>2019-08-02</td>\n",
       "      <td>A</td>\n",
       "      <td>619</td>\n",
       "    </tr>\n",
       "    <tr>\n",
       "      <th>2</th>\n",
       "      <td>2019-08-03</td>\n",
       "      <td>A</td>\n",
       "      <td>507</td>\n",
       "    </tr>\n",
       "    <tr>\n",
       "      <th>3</th>\n",
       "      <td>2019-08-04</td>\n",
       "      <td>A</td>\n",
       "      <td>717</td>\n",
       "    </tr>\n",
       "    <tr>\n",
       "      <th>4</th>\n",
       "      <td>2019-08-05</td>\n",
       "      <td>A</td>\n",
       "      <td>756</td>\n",
       "    </tr>\n",
       "  </tbody>\n",
       "</table>\n",
       "</div>"
      ],
      "text/plain": [
       "        date group  visits\n",
       "0 2019-08-01     A     719\n",
       "1 2019-08-02     A     619\n",
       "2 2019-08-03     A     507\n",
       "3 2019-08-04     A     717\n",
       "4 2019-08-05     A     756"
      ]
     },
     "execution_count": 50,
     "metadata": {},
     "output_type": "execute_result"
    }
   ],
   "source": [
    "visits.head()"
   ]
  },
  {
   "cell_type": "markdown",
   "id": "fa186f8e-ed6d-4243-983e-830f8f538a5b",
   "metadata": {},
   "source": [
    "# Parte 1. Priorizando Hipóteses #"
   ]
  },
  {
   "cell_type": "markdown",
   "id": "bfacc3fe-6a50-4905-abea-bc248685edf4",
   "metadata": {},
   "source": [
    "<span style=\"color: blue; font-family: Arial; font-size: 20px;\">\n",
    "Aplicando o framework ICE para priorizar hipóteses e as classificando em ordem decrescente de prioridade."
   ]
  },
  {
   "cell_type": "code",
   "execution_count": 67,
   "id": "529f08a7-8d1b-4b1a-bca6-847752e68264",
   "metadata": {},
   "outputs": [
    {
     "name": "stdout",
     "output_type": "stream",
     "text": [
      "                                          hypothesis        ICE\n",
      "8  Launch a promotion that gives users discounts ...  16.200000\n",
      "0  Add two new channels for attracting traffic. T...  13.333333\n",
      "7  Add a subscription form to all the main pages....  11.200000\n",
      "6  Show banners with current offers and sales on ...   8.000000\n",
      "2  Add product recommendation blocks to the store...   7.000000\n",
      "1  Launch your own delivery service. This will sh...   2.000000\n",
      "5  Add a customer review page. This will increase...   1.333333\n",
      "3  Change the category structure. This will incre...   1.125000\n",
      "4  Change the background color on the main page. ...   1.000000\n"
     ]
    }
   ],
   "source": [
    "# Encontrando ICE\n",
    "hypothesis['ICE'] = (hypothesis['impact']*hypothesis['confidence'])/hypothesis['effort']\n",
    "print(hypothesis[['hypothesis','ICE']].sort_values(by='ICE', ascending=False))"
   ]
  },
  {
   "cell_type": "markdown",
   "id": "3167059f-68aa-410c-b50c-b3f3b5599120",
   "metadata": {},
   "source": [
    "<span style=\"color: blue; font-family: Arial; font-size: 20px;\">\n",
    "Aplicando o framework RICE para priorizar hipóteses e as classificando em ordem decrescente de prioridade."
   ]
  },
  {
   "cell_type": "code",
   "execution_count": 69,
   "id": "03034f02-0f7b-40ee-b18a-897099931803",
   "metadata": {},
   "outputs": [
    {
     "name": "stdout",
     "output_type": "stream",
     "text": [
      "                                          hypothesis   RICE\n",
      "7  Add a subscription form to all the main pages....  112.0\n",
      "2  Add product recommendation blocks to the store...   56.0\n",
      "0  Add two new channels for attracting traffic. T...   40.0\n",
      "6  Show banners with current offers and sales on ...   40.0\n",
      "8  Launch a promotion that gives users discounts ...   16.2\n",
      "3  Change the category structure. This will incre...    9.0\n",
      "1  Launch your own delivery service. This will sh...    4.0\n",
      "5  Add a customer review page. This will increase...    4.0\n",
      "4  Change the background color on the main page. ...    3.0\n"
     ]
    }
   ],
   "source": [
    "# Encontrando RICE\n",
    "hypothesis['RICE'] = (hypothesis['reach']*hypothesis['impact']*hypothesis['confidence'])/hypothesis['effort']\n",
    "print(hypothesis[['hypothesis','RICE']].sort_values(by='RICE', ascending=False))"
   ]
  },
  {
   "cell_type": "markdown",
   "id": "240b36f9-4171-4f97-ac35-396abd4434d1",
   "metadata": {},
   "source": [
    "<span style=\"color: blue; font-family: Arial; font-size: 20px;\">\n",
    "Analisando a mudança de priorização de hipóteses quando é usado o RICE ao invés de ICE."
   ]
  },
  {
   "cell_type": "code",
   "execution_count": 73,
   "id": "b7e51984-7e04-4a71-8bc2-327968a195fa",
   "metadata": {},
   "outputs": [
    {
     "data": {
      "text/html": [
       "<div>\n",
       "<style scoped>\n",
       "    .dataframe tbody tr th:only-of-type {\n",
       "        vertical-align: middle;\n",
       "    }\n",
       "\n",
       "    .dataframe tbody tr th {\n",
       "        vertical-align: top;\n",
       "    }\n",
       "\n",
       "    .dataframe thead th {\n",
       "        text-align: right;\n",
       "    }\n",
       "</style>\n",
       "<table border=\"1\" class=\"dataframe\">\n",
       "  <thead>\n",
       "    <tr style=\"text-align: right;\">\n",
       "      <th></th>\n",
       "      <th>hypothesis</th>\n",
       "      <th>reach</th>\n",
       "      <th>impact</th>\n",
       "      <th>confidence</th>\n",
       "      <th>effort</th>\n",
       "      <th>ICE</th>\n",
       "      <th>RICE</th>\n",
       "    </tr>\n",
       "  </thead>\n",
       "  <tbody>\n",
       "    <tr>\n",
       "      <th>0</th>\n",
       "      <td>Add two new channels for attracting traffic. T...</td>\n",
       "      <td>3</td>\n",
       "      <td>10</td>\n",
       "      <td>8</td>\n",
       "      <td>6</td>\n",
       "      <td>13.333333</td>\n",
       "      <td>40.0</td>\n",
       "    </tr>\n",
       "    <tr>\n",
       "      <th>1</th>\n",
       "      <td>Launch your own delivery service. This will sh...</td>\n",
       "      <td>2</td>\n",
       "      <td>5</td>\n",
       "      <td>4</td>\n",
       "      <td>10</td>\n",
       "      <td>2.000000</td>\n",
       "      <td>4.0</td>\n",
       "    </tr>\n",
       "    <tr>\n",
       "      <th>2</th>\n",
       "      <td>Add product recommendation blocks to the store...</td>\n",
       "      <td>8</td>\n",
       "      <td>3</td>\n",
       "      <td>7</td>\n",
       "      <td>3</td>\n",
       "      <td>7.000000</td>\n",
       "      <td>56.0</td>\n",
       "    </tr>\n",
       "    <tr>\n",
       "      <th>3</th>\n",
       "      <td>Change the category structure. This will incre...</td>\n",
       "      <td>8</td>\n",
       "      <td>3</td>\n",
       "      <td>3</td>\n",
       "      <td>8</td>\n",
       "      <td>1.125000</td>\n",
       "      <td>9.0</td>\n",
       "    </tr>\n",
       "    <tr>\n",
       "      <th>4</th>\n",
       "      <td>Change the background color on the main page. ...</td>\n",
       "      <td>3</td>\n",
       "      <td>1</td>\n",
       "      <td>1</td>\n",
       "      <td>1</td>\n",
       "      <td>1.000000</td>\n",
       "      <td>3.0</td>\n",
       "    </tr>\n",
       "  </tbody>\n",
       "</table>\n",
       "</div>"
      ],
      "text/plain": [
       "                                          hypothesis  reach  impact  \\\n",
       "0  Add two new channels for attracting traffic. T...      3      10   \n",
       "1  Launch your own delivery service. This will sh...      2       5   \n",
       "2  Add product recommendation blocks to the store...      8       3   \n",
       "3  Change the category structure. This will incre...      8       3   \n",
       "4  Change the background color on the main page. ...      3       1   \n",
       "\n",
       "   confidence  effort        ICE  RICE  \n",
       "0           8       6  13.333333  40.0  \n",
       "1           4      10   2.000000   4.0  \n",
       "2           7       3   7.000000  56.0  \n",
       "3           3       8   1.125000   9.0  \n",
       "4           1       1   1.000000   3.0  "
      ]
     },
     "execution_count": 73,
     "metadata": {},
     "output_type": "execute_result"
    }
   ],
   "source": [
    "hypothesis.head()"
   ]
  },
  {
   "cell_type": "markdown",
   "id": "ec3bf3ee-c9c2-4a48-bf43-0b05b8224773",
   "metadata": {},
   "source": [
    "<span style=\"color: black; font-family: Arial; font-size: 20px;\">\n",
    "\n",
    "A priorização de hipóteses muda quando é usado o RICE ao invés de ICE porque RICE considera o alcance (reach). A hipótese 8, por exemplo, ficou em primeiro lugar usando o método ICE de cálculo. Porém, ao adicionar os valores de alcance (reach) e calcular o RICE, a hipótese 8 foi para o quinto lugar, notando-se a diferença que a adição do parâmetro reach causa no cálculo.\n",
    "\n",
    "Juntando os dois cálculos ICE e RICE, quando há parâmetros suficientes para seus cálculos, é possível filtrar melhor quais são as melhores hipóteses. Nesse caso, as hipóteses 7, 0, 6 e 2 são as melhores."
   ]
  },
  {
   "cell_type": "markdown",
   "id": "4cfd4e47-6f2c-4ad8-aa50-2f253d42b55c",
   "metadata": {},
   "source": [
    "# Parte 2. Análise de teste A/B #"
   ]
  },
  {
   "cell_type": "markdown",
   "id": "57383de7-7102-4cac-8b03-56ef8b2cdfb6",
   "metadata": {},
   "source": [
    "<span style=\"color: blue; font-family: Arial; font-size: 20px;\">\n",
    "Calculando a receita acumulada por grupo."
   ]
  },
  {
   "cell_type": "code",
   "execution_count": 81,
   "id": "c766c222-76bb-43d0-91de-e471f582d3d2",
   "metadata": {},
   "outputs": [
    {
     "data": {
      "text/html": [
       "<div>\n",
       "<style scoped>\n",
       "    .dataframe tbody tr th:only-of-type {\n",
       "        vertical-align: middle;\n",
       "    }\n",
       "\n",
       "    .dataframe tbody tr th {\n",
       "        vertical-align: top;\n",
       "    }\n",
       "\n",
       "    .dataframe thead th {\n",
       "        text-align: right;\n",
       "    }\n",
       "</style>\n",
       "<table border=\"1\" class=\"dataframe\">\n",
       "  <thead>\n",
       "    <tr style=\"text-align: right;\">\n",
       "      <th></th>\n",
       "      <th>transaction_id</th>\n",
       "      <th>visitor_id</th>\n",
       "      <th>date</th>\n",
       "      <th>revenue</th>\n",
       "      <th>group</th>\n",
       "    </tr>\n",
       "  </thead>\n",
       "  <tbody>\n",
       "    <tr>\n",
       "      <th>0</th>\n",
       "      <td>3667963787</td>\n",
       "      <td>3312258926</td>\n",
       "      <td>2019-08-15</td>\n",
       "      <td>30.4</td>\n",
       "      <td>B</td>\n",
       "    </tr>\n",
       "    <tr>\n",
       "      <th>1</th>\n",
       "      <td>2804400009</td>\n",
       "      <td>3642806036</td>\n",
       "      <td>2019-08-15</td>\n",
       "      <td>15.2</td>\n",
       "      <td>B</td>\n",
       "    </tr>\n",
       "    <tr>\n",
       "      <th>2</th>\n",
       "      <td>2961555356</td>\n",
       "      <td>4069496402</td>\n",
       "      <td>2019-08-15</td>\n",
       "      <td>10.2</td>\n",
       "      <td>A</td>\n",
       "    </tr>\n",
       "    <tr>\n",
       "      <th>3</th>\n",
       "      <td>3797467345</td>\n",
       "      <td>1196621759</td>\n",
       "      <td>2019-08-15</td>\n",
       "      <td>155.1</td>\n",
       "      <td>B</td>\n",
       "    </tr>\n",
       "    <tr>\n",
       "      <th>4</th>\n",
       "      <td>2282983706</td>\n",
       "      <td>2322279887</td>\n",
       "      <td>2019-08-15</td>\n",
       "      <td>40.5</td>\n",
       "      <td>B</td>\n",
       "    </tr>\n",
       "  </tbody>\n",
       "</table>\n",
       "</div>"
      ],
      "text/plain": [
       "   transaction_id  visitor_id       date  revenue group\n",
       "0      3667963787  3312258926 2019-08-15     30.4     B\n",
       "1      2804400009  3642806036 2019-08-15     15.2     B\n",
       "2      2961555356  4069496402 2019-08-15     10.2     A\n",
       "3      3797467345  1196621759 2019-08-15    155.1     B\n",
       "4      2282983706  2322279887 2019-08-15     40.5     B"
      ]
     },
     "execution_count": 81,
     "metadata": {},
     "output_type": "execute_result"
    }
   ],
   "source": [
    "orders.head()"
   ]
  },
  {
   "cell_type": "code",
   "execution_count": 83,
   "id": "4e22a63a-9523-47e4-8c83-34383895b141",
   "metadata": {},
   "outputs": [],
   "source": [
    "# Construindo um vetor com valores de pares unívocos de grupos de datas \n",
    "dates_groups = orders[['date','group']].drop_duplicates()"
   ]
  },
  {
   "cell_type": "code",
   "execution_count": 85,
   "id": "cc9fbd5a-7af4-46e2-899b-0f2a30fb01df",
   "metadata": {},
   "outputs": [
    {
     "data": {
      "text/html": [
       "<div>\n",
       "<style scoped>\n",
       "    .dataframe tbody tr th:only-of-type {\n",
       "        vertical-align: middle;\n",
       "    }\n",
       "\n",
       "    .dataframe tbody tr th {\n",
       "        vertical-align: top;\n",
       "    }\n",
       "\n",
       "    .dataframe thead th {\n",
       "        text-align: right;\n",
       "    }\n",
       "</style>\n",
       "<table border=\"1\" class=\"dataframe\">\n",
       "  <thead>\n",
       "    <tr style=\"text-align: right;\">\n",
       "      <th></th>\n",
       "      <th>date</th>\n",
       "      <th>group</th>\n",
       "      <th>transaction_id</th>\n",
       "      <th>visitor_id</th>\n",
       "      <th>revenue</th>\n",
       "    </tr>\n",
       "  </thead>\n",
       "  <tbody>\n",
       "    <tr>\n",
       "      <th>55</th>\n",
       "      <td>2019-08-01</td>\n",
       "      <td>A</td>\n",
       "      <td>24</td>\n",
       "      <td>20</td>\n",
       "      <td>2356.8</td>\n",
       "    </tr>\n",
       "    <tr>\n",
       "      <th>66</th>\n",
       "      <td>2019-08-01</td>\n",
       "      <td>B</td>\n",
       "      <td>21</td>\n",
       "      <td>20</td>\n",
       "      <td>1620.0</td>\n",
       "    </tr>\n",
       "    <tr>\n",
       "      <th>175</th>\n",
       "      <td>2019-08-02</td>\n",
       "      <td>A</td>\n",
       "      <td>44</td>\n",
       "      <td>38</td>\n",
       "      <td>3860.3</td>\n",
       "    </tr>\n",
       "    <tr>\n",
       "      <th>173</th>\n",
       "      <td>2019-08-02</td>\n",
       "      <td>B</td>\n",
       "      <td>45</td>\n",
       "      <td>43</td>\n",
       "      <td>4243.8</td>\n",
       "    </tr>\n",
       "    <tr>\n",
       "      <th>291</th>\n",
       "      <td>2019-08-03</td>\n",
       "      <td>A</td>\n",
       "      <td>68</td>\n",
       "      <td>62</td>\n",
       "      <td>5675.5</td>\n",
       "    </tr>\n",
       "  </tbody>\n",
       "</table>\n",
       "</div>"
      ],
      "text/plain": [
       "          date group  transaction_id  visitor_id  revenue\n",
       "55  2019-08-01     A              24          20   2356.8\n",
       "66  2019-08-01     B              21          20   1620.0\n",
       "175 2019-08-02     A              44          38   3860.3\n",
       "173 2019-08-02     B              45          43   4243.8\n",
       "291 2019-08-03     A              68          62   5675.5"
      ]
     },
     "execution_count": 85,
     "metadata": {},
     "output_type": "execute_result"
    }
   ],
   "source": [
    "# Obtendo dados diários cumulativos agregados sobre pedidos \n",
    "orders_aggregated = dates_groups.apply(lambda x: orders[np.logical_and(orders['date'] <= x['date'], orders['group'] == x['group'])].agg({'date' : 'max', 'group' : 'max', 'transaction_id' : pd.Series.nunique, 'visitor_id' : pd.Series.nunique, 'revenue' : 'sum'}), axis=1).sort_values(by=['date','group'])\n",
    "orders_aggregated.head()"
   ]
  },
  {
   "cell_type": "code",
   "execution_count": 87,
   "id": "94712e55-5c01-493d-a6a6-78839ffdedd3",
   "metadata": {},
   "outputs": [
    {
     "data": {
      "text/html": [
       "<div>\n",
       "<style scoped>\n",
       "    .dataframe tbody tr th:only-of-type {\n",
       "        vertical-align: middle;\n",
       "    }\n",
       "\n",
       "    .dataframe tbody tr th {\n",
       "        vertical-align: top;\n",
       "    }\n",
       "\n",
       "    .dataframe thead th {\n",
       "        text-align: right;\n",
       "    }\n",
       "</style>\n",
       "<table border=\"1\" class=\"dataframe\">\n",
       "  <thead>\n",
       "    <tr style=\"text-align: right;\">\n",
       "      <th></th>\n",
       "      <th>date</th>\n",
       "      <th>group</th>\n",
       "      <th>visits</th>\n",
       "    </tr>\n",
       "  </thead>\n",
       "  <tbody>\n",
       "    <tr>\n",
       "      <th>55</th>\n",
       "      <td>2019-08-01</td>\n",
       "      <td>A</td>\n",
       "      <td>719</td>\n",
       "    </tr>\n",
       "    <tr>\n",
       "      <th>66</th>\n",
       "      <td>2019-08-01</td>\n",
       "      <td>B</td>\n",
       "      <td>713</td>\n",
       "    </tr>\n",
       "    <tr>\n",
       "      <th>175</th>\n",
       "      <td>2019-08-02</td>\n",
       "      <td>A</td>\n",
       "      <td>1338</td>\n",
       "    </tr>\n",
       "    <tr>\n",
       "      <th>173</th>\n",
       "      <td>2019-08-02</td>\n",
       "      <td>B</td>\n",
       "      <td>1294</td>\n",
       "    </tr>\n",
       "    <tr>\n",
       "      <th>291</th>\n",
       "      <td>2019-08-03</td>\n",
       "      <td>A</td>\n",
       "      <td>1845</td>\n",
       "    </tr>\n",
       "  </tbody>\n",
       "</table>\n",
       "</div>"
      ],
      "text/plain": [
       "          date group  visits\n",
       "55  2019-08-01     A     719\n",
       "66  2019-08-01     B     713\n",
       "175 2019-08-02     A    1338\n",
       "173 2019-08-02     B    1294\n",
       "291 2019-08-03     A    1845"
      ]
     },
     "execution_count": 87,
     "metadata": {},
     "output_type": "execute_result"
    }
   ],
   "source": [
    "# Obtendo dados diários cumulativos agregados sobre visitantes  \n",
    "visits_aggregated = dates_groups.apply(lambda x: visits[np.logical_and(visits['date'] <= x['date'], visits['group'] == x['group'])].agg({'date' : 'max', 'group' : 'max', 'visits' : 'sum'}), axis=1).sort_values(by=['date','group'])\n",
    "visits_aggregated.head()"
   ]
  },
  {
   "cell_type": "code",
   "execution_count": 89,
   "id": "0d0e6004-cb0e-41cd-a5a1-b332ede5d93f",
   "metadata": {},
   "outputs": [
    {
     "data": {
      "text/html": [
       "<div>\n",
       "<style scoped>\n",
       "    .dataframe tbody tr th:only-of-type {\n",
       "        vertical-align: middle;\n",
       "    }\n",
       "\n",
       "    .dataframe tbody tr th {\n",
       "        vertical-align: top;\n",
       "    }\n",
       "\n",
       "    .dataframe thead th {\n",
       "        text-align: right;\n",
       "    }\n",
       "</style>\n",
       "<table border=\"1\" class=\"dataframe\">\n",
       "  <thead>\n",
       "    <tr style=\"text-align: right;\">\n",
       "      <th></th>\n",
       "      <th>date</th>\n",
       "      <th>group</th>\n",
       "      <th>orders</th>\n",
       "      <th>buyers</th>\n",
       "      <th>revenue</th>\n",
       "      <th>visits</th>\n",
       "    </tr>\n",
       "  </thead>\n",
       "  <tbody>\n",
       "    <tr>\n",
       "      <th>0</th>\n",
       "      <td>2019-08-01</td>\n",
       "      <td>A</td>\n",
       "      <td>24</td>\n",
       "      <td>20</td>\n",
       "      <td>2356.8</td>\n",
       "      <td>719</td>\n",
       "    </tr>\n",
       "    <tr>\n",
       "      <th>1</th>\n",
       "      <td>2019-08-01</td>\n",
       "      <td>B</td>\n",
       "      <td>21</td>\n",
       "      <td>20</td>\n",
       "      <td>1620.0</td>\n",
       "      <td>713</td>\n",
       "    </tr>\n",
       "    <tr>\n",
       "      <th>2</th>\n",
       "      <td>2019-08-02</td>\n",
       "      <td>A</td>\n",
       "      <td>44</td>\n",
       "      <td>38</td>\n",
       "      <td>3860.3</td>\n",
       "      <td>1338</td>\n",
       "    </tr>\n",
       "    <tr>\n",
       "      <th>3</th>\n",
       "      <td>2019-08-02</td>\n",
       "      <td>B</td>\n",
       "      <td>45</td>\n",
       "      <td>43</td>\n",
       "      <td>4243.8</td>\n",
       "      <td>1294</td>\n",
       "    </tr>\n",
       "    <tr>\n",
       "      <th>4</th>\n",
       "      <td>2019-08-03</td>\n",
       "      <td>A</td>\n",
       "      <td>68</td>\n",
       "      <td>62</td>\n",
       "      <td>5675.5</td>\n",
       "      <td>1845</td>\n",
       "    </tr>\n",
       "  </tbody>\n",
       "</table>\n",
       "</div>"
      ],
      "text/plain": [
       "        date group  orders  buyers  revenue  visits\n",
       "0 2019-08-01     A      24      20   2356.8     719\n",
       "1 2019-08-01     B      21      20   1620.0     713\n",
       "2 2019-08-02     A      44      38   3860.3    1338\n",
       "3 2019-08-02     B      45      43   4243.8    1294\n",
       "4 2019-08-03     A      68      62   5675.5    1845"
      ]
     },
     "execution_count": 89,
     "metadata": {},
     "output_type": "execute_result"
    }
   ],
   "source": [
    "# Unindo os dataframes com dados cumulativos\n",
    "cumulative_info = orders_aggregated.merge(visits_aggregated, left_on=['date', 'group'], right_on=['date', 'group'])\n",
    "cumulative_info.columns = ['date', 'group', 'orders', 'buyers', 'revenue', 'visits']\n",
    "\n",
    "cumulative_info.head()"
   ]
  },
  {
   "cell_type": "code",
   "execution_count": 99,
   "id": "a59d11cf-be9d-4688-be01-96e9aa142e33",
   "metadata": {},
   "outputs": [
    {
     "data": {
      "image/png": "[encoded data removed]",
      "text/plain": [
       "<Figure size 640x480 with 1 Axes>"
      ]
     },
     "metadata": {},
     "output_type": "display_data"
    }
   ],
   "source": [
    "# DataFrame com pedidos cumulativos e receita cumulativa do grupo A\n",
    "cumulative_revenue_A = cumulative_info[cumulative_info['group']=='A'][['date','revenue', 'orders']]\n",
    "\n",
    "# DataFrame com pedidos cumulativos e receita cumulativa do grupo B\n",
    "cumulative_revenue_B = cumulative_info[cumulative_info['group']=='B'][['date','revenue', 'orders']]\n",
    "\n",
    "# Construindo o gráfico de receita do grupo A \n",
    "plt.plot(cumulative_revenue_A['date'], cumulative_revenue_A['revenue'], label='A')\n",
    "\n",
    "# Construindo o gráfico de receita do grupo B \n",
    "plt.plot(cumulative_revenue_B['date'], cumulative_revenue_B['revenue'], label='B')\n",
    "\n",
    "plt.xticks(rotation=45)\n",
    "plt.title('Receita Acumulada Por Grupo', fontweight='bold')\n",
    "plt.xlabel('Data')\n",
    "plt.ylabel('Receita')\n",
    "plt.legend()\n",
    "plt.tight_layout()\n",
    "plt.show()"
   ]
  },
  {
   "cell_type": "markdown",
   "id": "bf3050ff-02b1-4957-9ec2-902ea1161b70",
   "metadata": {},
   "source": [
    "<span style=\"color: black; font-family: Arial; font-size: 20px;\">\n",
    "A receita está apresentando um crescimento estável ao longo do teste. \n",
    "    \n",
    "Destaca-se o grupo B que se manteve à frente do grupo A durante praticamente todo o teste."
   ]
  },
  {
   "cell_type": "markdown",
   "id": "3608730a-dd8e-440f-8972-93189d470359",
   "metadata": {},
   "source": [
    "<span style=\"color: blue; font-family: Arial; font-size: 20px;\">\n",
    "Calculando o tamanho médio acumulado de pedidos por grupo."
   ]
  },
  {
   "cell_type": "code",
   "execution_count": 104,
   "id": "6c0237fe-bbfc-4eb4-b9a0-7bf56d173d10",
   "metadata": {},
   "outputs": [
    {
     "data": {
      "image/png": "[encoded data removed]",
      "text/plain": [
       "<Figure size 640x480 with 1 Axes>"
      ]
     },
     "metadata": {},
     "output_type": "display_data"
    }
   ],
   "source": [
    "# Dividindo a receita cumulativa pela quantidade cumulativa de pedidos, e criando um gráfico\n",
    "plt.plot(cumulative_revenue_A['date'], cumulative_revenue_A['revenue']/cumulative_revenue_A['orders'], label='A')\n",
    "plt.plot(cumulative_revenue_B['date'], cumulative_revenue_B['revenue']/cumulative_revenue_B['orders'], label='B')\n",
    "\n",
    "# Plotando um gráfico\n",
    "plt.xticks(rotation=45)\n",
    "plt.title('Tamanho Médio Acumulado de Pedidos Por Grupo', fontweight='bold')\n",
    "plt.xlabel('Data')\n",
    "plt.ylabel('Tamanho do Pedido')\n",
    "plt.legend()\n",
    "plt.tight_layout()\n",
    "plt.show()"
   ]
  },
  {
   "cell_type": "markdown",
   "id": "d3f900ee-6cb0-4c71-b174-2cf876c6058e",
   "metadata": {},
   "source": [
    "<span style=\"color: black; font-family: Arial; font-size: 20px;\">\n",
    "Durante o teste, o tamanho médio acumulado de pedidos por grupo termina em uma grande alta para o grupo B em relação ao grupo A."
   ]
  },
  {
   "cell_type": "markdown",
   "id": "b41a153a-c9ff-4a1e-a129-f3fef5000190",
   "metadata": {},
   "source": [
    "<span style=\"color: blue; font-family: Arial; font-size: 20px;\">\n",
    "Calculando a diferença relativa no tamanho médio acumulado do pedido para o grupo B em comparação com o A."
   ]
  },
  {
   "cell_type": "code",
   "execution_count": 111,
   "id": "fcbaeaef-6773-44be-a003-95f425186481",
   "metadata": {},
   "outputs": [
    {
     "data": {
      "image/png": "[encoded data removed]",
      "text/plain": [
       "<Figure size 640x480 with 1 Axes>"
      ]
     },
     "metadata": {},
     "output_type": "display_data"
    }
   ],
   "source": [
    "# Reunindo os dados em um DataFrame\n",
    "merged_cumulative_revenue = cumulative_revenue_A.merge(cumulative_revenue_B, left_on='date', right_on='date', how='left', suffixes=['A', 'B'])\n",
    "\n",
    "# Construindo um gráfico de diferença relativa para os volumes médios de compra\n",
    "plt.plot(merged_cumulative_revenue['date'], (merged_cumulative_revenue['revenueB']/merged_cumulative_revenue['ordersB'])\\\n",
    "         /(merged_cumulative_revenue['revenueA']/merged_cumulative_revenue['ordersA'])-1)\n",
    "\n",
    "\n",
    "plt.xticks(rotation=45)\n",
    "plt.axhline(y=0, linestyle='--')\n",
    "plt.title('Diferença Relativa no Tamanho Médio Acumulado do Pedido', fontweight='bold')\n",
    "plt.xlabel('Data')\n",
    "plt.ylabel('Tamanho Médio do Pedido Acumulado')\n",
    "plt.tight_layout()\n",
    "plt.show()"
   ]
  },
  {
   "cell_type": "markdown",
   "id": "e30b8466-0086-4ddc-aa76-6ad0325464a4",
   "metadata": {},
   "source": [
    "<span style=\"color: black; font-family: Arial; font-size: 20px;\">\n",
    "Em alguns pontos, nota-se que a diferença entre os segmentos apresenta picos. Isso indica a ocorrência de pedidos grandes e valores atípicos."
   ]
  },
  {
   "cell_type": "markdown",
   "id": "41f1db63-1b03-4c8b-bbc1-12c6c8faf5ca",
   "metadata": {},
   "source": [
    "<span style=\"color: blue; font-family: Arial; font-size: 20px;\">\n",
    "Calculando a taxa de conversão de cada grupo e analisando a proporção de pedidos para o número de visitas para cada dia."
   ]
  },
  {
   "cell_type": "code",
   "execution_count": 116,
   "id": "f99aef2e-e642-4bf7-8e2e-5d2121f36653",
   "metadata": {},
   "outputs": [
    {
     "data": {
      "image/png": "[encoded data removed]",
      "text/plain": [
       "<Figure size 640x480 with 1 Axes>"
      ]
     },
     "metadata": {},
     "output_type": "display_data"
    }
   ],
   "source": [
    "# Calculando a conversão cumulativa\n",
    "cumulative_info['conversion'] = cumulative_info['orders']/cumulative_info['visits']\n",
    "\n",
    "# Selecionando dados do grupo A\n",
    "cumulative_info_A = cumulative_info[cumulative_info['group']=='A']\n",
    "\n",
    "# Selecionando dados do grupo B\n",
    "cumulative_info_B = cumulative_info[cumulative_info['group']=='B']\n",
    "\n",
    "# Construindo o gráfico\n",
    "plt.plot(cumulative_info_A['date'], cumulative_info_A['conversion'], label='A')\n",
    "plt.plot(cumulative_info_B['date'], cumulative_info_B['conversion'], label='B')\n",
    "plt.title('Taxa de Conversão por Grupo', fontweight='bold')\n",
    "plt.xlabel('Data')\n",
    "plt.ylabel('Taxa de Conversão')\n",
    "plt.xticks(rotation=45)\n",
    "plt.legend()\n",
    "plt.tight_layout()\n",
    "plt.ylim(0, 0.060)\n",
    "plt.show()"
   ]
  },
  {
   "cell_type": "markdown",
   "id": "8b983bc4-7470-464f-83ac-01b0df4ce3ac",
   "metadata": {},
   "source": [
    "<span style=\"color: black; font-family: Arial; font-size: 20px;\">\n",
    "Os dois grupos flutuaram em torno de valores próximos apenas no começo do teste, porém a taxa de conversão do grupo B subiu e se estabilizou, enquanto a taxa de conversão do grupo A caiu e então se tornou estável."
   ]
  },
  {
   "cell_type": "markdown",
   "id": "1f3ffd58-f414-466a-93d2-bb9edef47e90",
   "metadata": {},
   "source": [
    "<span style=\"color: blue; font-family: Arial; font-size: 20px;\">\n",
    "Calculando a diferença relativa na conversão cumulativa para o grupo B em comparação com o grupo A."
   ]
  },
  {
   "cell_type": "code",
   "execution_count": 122,
   "id": "4c5db67c-7220-4789-80f3-88b9b1888413",
   "metadata": {},
   "outputs": [
    {
     "data": {
      "image/png": "[encoded data removed]",
      "text/plain": [
       "<Figure size 640x480 with 1 Axes>"
      ]
     },
     "metadata": {},
     "output_type": "display_data"
    }
   ],
   "source": [
    "# Unindo os dataframes para obter as conversões acumuladas\n",
    "merged_cumulative_conversions = cumulative_info_A[['date','conversion']].merge(cumulative_info_B[['date','conversion']], left_on='date', right_on='date', how='left', suffixes=['A', 'B'])\n",
    "\n",
    "# Criando um gráfico\n",
    "plt.plot(merged_cumulative_conversions['date'], merged_cumulative_conversions['conversionB']/merged_cumulative_conversions['conversionA']-1)\n",
    "plt.xticks(rotation=45)\n",
    "plt.tight_layout()\n",
    "plt.title('Diferença Relativa na Conversão Cumulativa por Grupo', fontweight='bold')\n",
    "plt.xlabel('Data')\n",
    "plt.ylabel('Diferença Relativa')\n",
    "plt.axhline(y=0, color='black', linestyle='--')\n",
    "plt.axhline(y=-0.1, color='grey', linestyle='--')\n",
    "plt.show()"
   ]
  },
  {
   "cell_type": "markdown",
   "id": "0f8ea90e-4175-46a3-bff3-90f8a4e8a6d8",
   "metadata": {},
   "source": [
    "<span style=\"color: black; font-family: Arial; font-size: 20px;\">\n",
    "No começo do teste, o grupo B deu um pico para cima mas caiu rapidamente. No entanto, ainda no começo do teste, ele deu outro pico para cima e subiu bastante, assumindo a liderança até o final do teste"
   ]
  },
  {
   "cell_type": "markdown",
   "id": "b460239e-817e-4804-9410-325aa464412a",
   "metadata": {},
   "source": [
    "<span style=\"color: blue; font-family: Arial; font-size: 20px;\">\n",
    "Calculando os percentis 95 e 99 para o número de pedidos por usuário."
   ]
  },
  {
   "cell_type": "code",
   "execution_count": 126,
   "id": "d38daed4-bf0c-4894-bf78-bb7d2415404f",
   "metadata": {},
   "outputs": [
    {
     "name": "stdout",
     "output_type": "stream",
     "text": [
      "      visitor_id  orders\n",
      "1023  4256040402      11\n",
      "591   2458001652      11\n",
      "569   2378935119       9\n",
      "487   2038680547       8\n",
      "44     199603092       5\n",
      "744   3062433592       5\n",
      "55     237748145       5\n",
      "917   3803269165       5\n",
      "299   1230306981       5\n",
      "897   3717692402       5\n"
     ]
    }
   ],
   "source": [
    "# Definindo a quantidade de pedidos por usuário e plotando dois gráficos\n",
    "orders_by_users = (orders.drop(['group', 'revenue', 'date'], axis=1).groupby('visitor_id', as_index=False).agg({'transaction_id': pd.Series.nunique}))\n",
    "orders_by_users.columns = ['visitor_id', 'orders']\n",
    "\n",
    "print(orders_by_users.sort_values(by='orders', ascending=False).head(10))"
   ]
  },
  {
   "cell_type": "code",
   "execution_count": 129,
   "id": "f44bdd68-4c63-491d-b2f7-29d335912e6c",
   "metadata": {},
   "outputs": [
    {
     "data": {
      "text/plain": [
       "(array([937.,  64.,  17.,   3.,   6.,   0.,   0.,   1.,   1.,   2.]),\n",
       " array([ 1.,  2.,  3.,  4.,  5.,  6.,  7.,  8.,  9., 10., 11.]),\n",
       " <BarContainer object of 10 artists>)"
      ]
     },
     "execution_count": 129,
     "metadata": {},
     "output_type": "execute_result"
    },
    {
     "data": {
      "image/png": "[encoded data removed]",
      "text/plain": [
       "<Figure size 640x480 with 1 Axes>"
      ]
     },
     "metadata": {},
     "output_type": "display_data"
    }
   ],
   "source": [
    "plt.hist(orders_by_users['orders'])"
   ]
  },
  {
   "cell_type": "code",
   "execution_count": 131,
   "id": "cf9c674b-f7ab-4019-ab3b-3882f1b824e2",
   "metadata": {},
   "outputs": [
    {
     "data": {
      "text/plain": [
       "<matplotlib.collections.PathCollection at 0x1804a25a030>"
      ]
     },
     "execution_count": 131,
     "metadata": {},
     "output_type": "execute_result"
    },
    {
     "data": {
      "image/png": "[encoded data removed]",
      "text/plain": [
       "<Figure size 640x480 with 1 Axes>"
      ]
     },
     "metadata": {},
     "output_type": "display_data"
    }
   ],
   "source": [
    "x_values2 = pd.Series(range(0,len(orders_by_users)))\n",
    "\n",
    "plt.scatter(x_values2, orders_by_users['orders'])"
   ]
  },
  {
   "cell_type": "code",
   "execution_count": 133,
   "id": "7662438d-7a33-4d6b-876f-fc0ab0779d7b",
   "metadata": {},
   "outputs": [
    {
     "name": "stdout",
     "output_type": "stream",
     "text": [
      "[2. 4.]\n"
     ]
    }
   ],
   "source": [
    "print(np.percentile(orders_by_users['orders'], [95, 99]))"
   ]
  },
  {
   "cell_type": "markdown",
   "id": "3b0e0916-5e81-4eb0-9faa-c1b4f6f9df92",
   "metadata": {},
   "source": [
    "<span style=\"color: black; font-family: Arial; font-size: 20px;\">\n",
    "5% dos usuários fez mais do que 2 pedidos, e 1% deles fez mais do que 4 pedidos."
   ]
  },
  {
   "cell_type": "markdown",
   "id": "8b585b2e-b352-4cfc-b6f3-fc76a0910d9c",
   "metadata": {},
   "source": [
    "<span style=\"color: blue; font-family: Arial; font-size: 20px;\">\n",
    "Fazendo um gráfico de dispersão dos tamanhos dos pedidos."
   ]
  },
  {
   "cell_type": "code",
   "execution_count": 137,
   "id": "6ade26a3-e450-4588-b2e8-d9bdea598ff5",
   "metadata": {},
   "outputs": [
    {
     "data": {
      "text/html": [
       "<div>\n",
       "<style scoped>\n",
       "    .dataframe tbody tr th:only-of-type {\n",
       "        vertical-align: middle;\n",
       "    }\n",
       "\n",
       "    .dataframe tbody tr th {\n",
       "        vertical-align: top;\n",
       "    }\n",
       "\n",
       "    .dataframe thead th {\n",
       "        text-align: right;\n",
       "    }\n",
       "</style>\n",
       "<table border=\"1\" class=\"dataframe\">\n",
       "  <thead>\n",
       "    <tr style=\"text-align: right;\">\n",
       "      <th></th>\n",
       "      <th>transaction_id</th>\n",
       "      <th>visitor_id</th>\n",
       "      <th>date</th>\n",
       "      <th>revenue</th>\n",
       "      <th>group</th>\n",
       "    </tr>\n",
       "  </thead>\n",
       "  <tbody>\n",
       "    <tr>\n",
       "      <th>0</th>\n",
       "      <td>3667963787</td>\n",
       "      <td>3312258926</td>\n",
       "      <td>2019-08-15</td>\n",
       "      <td>30.4</td>\n",
       "      <td>B</td>\n",
       "    </tr>\n",
       "    <tr>\n",
       "      <th>1</th>\n",
       "      <td>2804400009</td>\n",
       "      <td>3642806036</td>\n",
       "      <td>2019-08-15</td>\n",
       "      <td>15.2</td>\n",
       "      <td>B</td>\n",
       "    </tr>\n",
       "    <tr>\n",
       "      <th>2</th>\n",
       "      <td>2961555356</td>\n",
       "      <td>4069496402</td>\n",
       "      <td>2019-08-15</td>\n",
       "      <td>10.2</td>\n",
       "      <td>A</td>\n",
       "    </tr>\n",
       "    <tr>\n",
       "      <th>3</th>\n",
       "      <td>3797467345</td>\n",
       "      <td>1196621759</td>\n",
       "      <td>2019-08-15</td>\n",
       "      <td>155.1</td>\n",
       "      <td>B</td>\n",
       "    </tr>\n",
       "    <tr>\n",
       "      <th>4</th>\n",
       "      <td>2282983706</td>\n",
       "      <td>2322279887</td>\n",
       "      <td>2019-08-15</td>\n",
       "      <td>40.5</td>\n",
       "      <td>B</td>\n",
       "    </tr>\n",
       "  </tbody>\n",
       "</table>\n",
       "</div>"
      ],
      "text/plain": [
       "   transaction_id  visitor_id       date  revenue group\n",
       "0      3667963787  3312258926 2019-08-15     30.4     B\n",
       "1      2804400009  3642806036 2019-08-15     15.2     B\n",
       "2      2961555356  4069496402 2019-08-15     10.2     A\n",
       "3      3797467345  1196621759 2019-08-15    155.1     B\n",
       "4      2282983706  2322279887 2019-08-15     40.5     B"
      ]
     },
     "execution_count": 137,
     "metadata": {},
     "output_type": "execute_result"
    }
   ],
   "source": [
    "orders.head()"
   ]
  },
  {
   "cell_type": "code",
   "execution_count": 155,
   "id": "d8ef74b4-d6d9-4e57-910c-5b13ae9b8279",
   "metadata": {},
   "outputs": [
    {
     "data": {
      "image/png": "[encoded data removed]",
      "text/plain": [
       "<Figure size 640x480 with 1 Axes>"
      ]
     },
     "metadata": {},
     "output_type": "display_data"
    }
   ],
   "source": [
    "# Plotando o gráfico\n",
    "x_values1 = pd.Series(range(0, len(orders['revenue'])))\n",
    "plt.scatter(x_values1, orders['revenue'])\n",
    "plt.title('Tamanho do pedidos', fontweight='bold')\n",
    "plt.ylabel('Tamanho do pedido')\n",
    "plt.show()"
   ]
  },
  {
   "cell_type": "markdown",
   "id": "a4d3b1a2-4c63-4285-bc03-f04f7858ce98",
   "metadata": {},
   "source": [
    "<span style=\"color: black; font-family: Arial; font-size: 20px;\">\n",
    "Com base no gráfico, podemos definir o limite para pedidos anormais entre 2500 e 5000."
   ]
  },
  {
   "cell_type": "markdown",
   "id": "203e756b-11cf-42c1-a500-6481e34c0e1e",
   "metadata": {},
   "source": [
    "<span style=\"color: blue; font-family: Arial; font-size: 20px;\">\n",
    "Calculando os percentis 95 e 99 dos preços dos pedidos."
   ]
  },
  {
   "cell_type": "code",
   "execution_count": 150,
   "id": "046c4136-2eb0-4624-b1e6-1d452f9bca1f",
   "metadata": {},
   "outputs": [
    {
     "name": "stdout",
     "output_type": "stream",
     "text": [
      "[435.54  900.904]\n"
     ]
    }
   ],
   "source": [
    "print(np.percentile(orders['revenue'], [95, 99]))"
   ]
  },
  {
   "cell_type": "markdown",
   "id": "1265ef45-0fc7-4d52-bd58-762d04164e96",
   "metadata": {},
   "source": [
    "<span style=\"color: black; font-family: Arial; font-size: 20px;\">\n",
    "5% dos usuários tem pedidos maiores que 435,54; e 1% deles tem pedidos maiores que 900,90."
   ]
  },
  {
   "cell_type": "markdown",
   "id": "082ae037-cc2b-44e2-9bd0-c35c82c39ca2",
   "metadata": {},
   "source": [
    "<span style=\"color: blue; font-family: Arial; font-size: 20px;\">\n",
    "Calculando a significância estatística da diferença na conversão entre os grupos usando os dados brutos."
   ]
  },
  {
   "cell_type": "code",
   "execution_count": 158,
   "id": "15749e24-86da-4827-ab1b-23b368d7e62c",
   "metadata": {},
   "outputs": [],
   "source": [
    "# Criando as variáveis 'orders_users_A' e 'orders_users_B' para armazenar as colunas ['user_id', 'orders']\n",
    "orders_users_A = orders[orders['group']=='A'].groupby('visitor_id', as_index=False).agg({'transaction_id' : pd.Series.nunique})\n",
    "orders_users_A.columns = ['user_id', 'orders']\n",
    "\n",
    "orders_users_B = orders[orders['group']=='B'].groupby('visitor_id', as_index=False).agg({'transaction_id' : pd.Series.nunique})\n",
    "orders_users_B.columns = ['user_id', 'orders']"
   ]
  },
  {
   "cell_type": "code",
   "execution_count": 160,
   "id": "590b95bd-391c-4a8b-a94e-f165b954f2c3",
   "metadata": {},
   "outputs": [
    {
     "data": {
      "text/plain": [
       "[0      1\n",
       " 1      1\n",
       " 2      1\n",
       " 3      1\n",
       " 4      1\n",
       "       ..\n",
       " 498    1\n",
       " 499    7\n",
       " 500    1\n",
       " 501    1\n",
       " 502    1\n",
       " Name: orders, Length: 503, dtype: int64,\n",
       " 0        0\n",
       " 1        0\n",
       " 2        0\n",
       " 3        0\n",
       " 4        0\n",
       "         ..\n",
       " 18228    0\n",
       " 18229    0\n",
       " 18230    0\n",
       " 18231    0\n",
       " 18232    0\n",
       " Name: orders, Length: 18233, dtype: int64]"
      ]
     },
     "execution_count": 160,
     "metadata": {},
     "output_type": "execute_result"
    }
   ],
   "source": [
    "# Criando uma lista da quantidade de pedidos por cada usuário e zeros para usuários que não realizaram nenhum pedido.\n",
    "[orders_users_A['orders'],pd.Series(0, index=np.arange(visits[visits['group']=='A']['visits'].sum() - len(orders_users_A['orders'])), name='orders')]"
   ]
  },
  {
   "cell_type": "code",
   "execution_count": 162,
   "id": "e5245912-1cf8-43cf-ae83-ba164b8f2ebe",
   "metadata": {},
   "outputs": [],
   "source": [
    "# Criando os samples\n",
    "sample_A = pd.concat([orders_users_A['orders'],pd.Series(0, index=np.arange(visits[visits['group']=='A']['visits'].sum() - len(orders_users_A['orders'])), name='orders')],axis=0)\n",
    "\n",
    "sample_B = pd.concat([orders_users_B['orders'],pd.Series(0, index=np.arange(visits[visits['group']=='B']['visits'].sum() - len(orders_users_B['orders'])), name='orders')],axis=0)"
   ]
  },
  {
   "cell_type": "code",
   "execution_count": 164,
   "id": "074f684a-2a71-481e-b889-d5ae165c4a62",
   "metadata": {},
   "outputs": [
    {
     "name": "stdout",
     "output_type": "stream",
     "text": [
      "0.017\n",
      "0.138\n"
     ]
    }
   ],
   "source": [
    "# Imprimindo o ganho de conversão relativo para o grupo B\n",
    "print(\"{0:.3f}\".format(stats.mannwhitneyu(sample_A, sample_B)[1]))\n",
    "\n",
    "print(\"{0:.3f}\".format(sample_B.mean()/sample_A.mean()-1))"
   ]
  },
  {
   "cell_type": "markdown",
   "id": "0b208584-1945-44cf-b555-60e8dd7079bc",
   "metadata": {},
   "source": [
    "<span style=\"color: black; font-family: Arial; font-size: 20px;\">\n",
    "O valor-p é de 0.017, sendo menor que 0.05. Ou seja, podemos rejeitar a hipótese de que não há diferença estatística significativa na conversão entre os grupos.\n",
    "\n",
    "O lucro relativo do grupo B é ficou em 13,8%."
   ]
  },
  {
   "cell_type": "markdown",
   "id": "15123d2e-3353-4f2d-83e2-6069e941435e",
   "metadata": {},
   "source": [
    "<span style=\"color: blue; font-family: Arial; font-size: 20px;\">\n",
    "Encontrando a significância estatística da diferença no tamanho médio do pedido entre os grupos usando os dados brutos."
   ]
  },
  {
   "cell_type": "code",
   "execution_count": 168,
   "id": "8c081114-a3f1-4005-856d-2e461f9c47a5",
   "metadata": {},
   "outputs": [
    {
     "name": "stdout",
     "output_type": "stream",
     "text": [
      "0.692\n",
      "0.252\n"
     ]
    }
   ],
   "source": [
    "# Descobrindo a diferença relativa em volume médio de pedidos entre os grupos\n",
    "print('{0:.3f}'.format(stats.mannwhitneyu(orders[orders['group']=='A']['revenue'], orders[orders['group']=='B']['revenue'])[1]))\n",
    "print('{0:.3f}'.format(orders[orders['group']=='B']['revenue'].mean()/orders[orders['group']=='A']['revenue'].mean()-1))"
   ]
  },
  {
   "cell_type": "markdown",
   "id": "93bfae8e-3e59-423e-844b-6ab2d0ba6615",
   "metadata": {},
   "source": [
    "<span style=\"color: black; font-family: Arial; font-size: 20px;\">\n",
    "O valor-p é bem maior do que 0.05, então não há motivo para rejeitar a hipótese de que o volume médio de pedidos seria diferente entre os grupos.\n",
    "\n",
    "O grupo B tem uma média de receita 25,2% maior."
   ]
  },
  {
   "cell_type": "markdown",
   "id": "06e1cbfe-f5fc-4a40-8a50-bd1fdbd98acc",
   "metadata": {},
   "source": [
    "<span style=\"color: blue; font-family: Arial; font-size: 20px;\">\n",
    "Encontrando a significância estatística da diferença na conversão entre os grupos usando os dados filtrados."
   ]
  },
  {
   "cell_type": "code",
   "execution_count": 172,
   "id": "1a0819c8-76cb-4a5b-99d5-75ec1f628a2d",
   "metadata": {},
   "outputs": [
    {
     "name": "stdout",
     "output_type": "stream",
     "text": [
      "18    199603092\n",
      "23    237748145\n",
      "37    249864742\n",
      "68    457167155\n",
      "68    611059232\n",
      "dtype: int64\n",
      "Nùmero de usuários anômalos: (22,)\n"
     ]
    }
   ],
   "source": [
    "# Considerando pedidos anormais como maiores de 2500, como visto anteriormente; e pessoas que pediram mais de 2 pedidos, representando 5% de usuários e podendo ser considerado anormal\n",
    "users_with_many_orders = pd.concat([orders_users_A[orders_users_A['orders'] > 2]['user_id'], orders_users_B[orders_users_B['orders'] > 2]['user_id']], axis = 0)\n",
    "users_with_expensive_orders = orders[orders['revenue'] > 2500]['visitor_id']\n",
    "abnormal_users = pd.concat([users_with_many_orders, users_with_expensive_orders], axis = 0).drop_duplicates().sort_values()\n",
    "print(abnormal_users.head(5))\n",
    "print(\"Nùmero de usuários anômalos:\", abnormal_users.shape)"
   ]
  },
  {
   "cell_type": "markdown",
   "id": "01d48530-1b1d-4831-9579-394961b61516",
   "metadata": {},
   "source": [
    "<span style=\"color: black; font-family: Arial; font-size: 20px;\">\n",
    "Existem 22 usuários considerados anômalos."
   ]
  },
  {
   "cell_type": "code",
   "execution_count": 175,
   "id": "7a9bfbc5-3394-456e-a678-497d97a106af",
   "metadata": {},
   "outputs": [],
   "source": [
    "# Calculando a significância estatística das diferenças em conversão entre os grupos, usando dados filtrados\n",
    "sample_A_filtered = pd.concat([orders_users_A[np.logical_not(orders_users_A['user_id'].isin(abnormal_users))]['orders'],pd.Series(0, index=np.arange(visits[visits['group']=='A']['visits'].sum() - len(orders_users_A['orders'])),name='orders')],axis=0)\n",
    "\n",
    "sample_B_filtered = pd.concat([orders_users_B[np.logical_not(orders_users_B['user_id'].isin(abnormal_users))]['orders'],pd.Series(0, index=np.arange(visits[visits['group']=='B']['visits'].sum() - len(orders_users_B['orders'])),name='orders')],axis=0)"
   ]
  },
  {
   "cell_type": "code",
   "execution_count": 177,
   "id": "83198237-0c3c-40f5-bf4a-71cae700cbb2",
   "metadata": {},
   "outputs": [
    {
     "name": "stdout",
     "output_type": "stream",
     "text": [
      "0.014\n",
      "0.166\n"
     ]
    }
   ],
   "source": [
    "# Imprimindo o ganho de conversão relativo para o grupo B com dados filtrados\n",
    "print(\"{0:.3f}\".format(stats.mannwhitneyu(sample_A_filtered, sample_B_filtered)[1]))\n",
    "print(\"{0:.3f}\".format(sample_B_filtered.mean()/sample_A_filtered.mean()-1))"
   ]
  },
  {
   "cell_type": "markdown",
   "id": "d5935e25-11f3-4823-bb76-1afa9e5b9dcc",
   "metadata": {},
   "source": [
    "<span style=\"color: black; font-family: Arial; font-size: 20px;\">\n",
    "Os dados filtrados não mudaram muito em relação aos dados brutos, que foram de 0.017 e 0.138, como calculados anteriormente.\n",
    "\n",
    "O lucro relativo do grupo B com esses dados filtrados agora ficou em 16,6%."
   ]
  },
  {
   "cell_type": "markdown",
   "id": "a608d874-0df7-4543-8136-3cbad73a5063",
   "metadata": {},
   "source": [
    "<span style=\"color: blue; font-family: Arial; font-size: 20px;\">\n",
    "Encontrando a significância estatística da diferença no tamanho médio do pedido entre os grupos usando os dados filtrados."
   ]
  },
  {
   "cell_type": "code",
   "execution_count": 181,
   "id": "14751f45-86c5-40c6-aa63-ad2a2d8fbc23",
   "metadata": {},
   "outputs": [
    {
     "name": "stdout",
     "output_type": "stream",
     "text": [
      "0.635\n",
      "-0.098\n"
     ]
    }
   ],
   "source": [
    "print('{0:.3f}'.format(stats.mannwhitneyu(\n",
    "    orders[np.logical_and(\n",
    "        orders['group']=='A',\n",
    "        np.logical_not(orders['visitor_id'].isin(abnormal_users)))]['revenue'],\n",
    "    orders[np.logical_and(\n",
    "        orders['group']=='B',\n",
    "        np.logical_not(orders['visitor_id'].isin(abnormal_users)))]['revenue'])[1]))\n",
    "\n",
    "print('{0:.3f}'.format(\n",
    "    orders[np.logical_and(orders['group']=='B',np.logical_not(orders['visitor_id'].isin(abnormal_users)))]['revenue'].mean()/\n",
    "    orders[np.logical_and(\n",
    "        orders['group']=='A',\n",
    "        np.logical_not(orders['visitor_id'].isin(abnormal_users)))]['revenue'].mean() - 1))"
   ]
  },
  {
   "cell_type": "markdown",
   "id": "bce5375b-7a49-403c-83cd-e5cc40d45287",
   "metadata": {},
   "source": [
    "<span style=\"color: black; font-family: Arial; font-size: 20px;\">\n",
    "Agora o grupo B teve uma média de receita 9,8% menor que o grupo A. \n",
    "\n",
    "Ainda assim, o valor-p permanece alto e não há diferença estatisticamente significativa."
   ]
  },
  {
   "cell_type": "markdown",
   "id": "8ccde57c-7f74-4bd8-b33e-558cb20b1be0",
   "metadata": {},
   "source": [
    "<span style=\"color: blue; font-family: Arial; font-size: 20px;\">\n",
    "Tomando uma decisão com base nos resultados do teste."
   ]
  },
  {
   "cell_type": "markdown",
   "id": "74da7582-cfaa-44f4-bba1-819940a3c533",
   "metadata": {},
   "source": [
    "<span style=\"color: black; font-family: Arial; font-size: 20px;\">\n",
    "    Com base nas conclusões apresentadas acima em cada etapa, sobre a significância estatística da diferença na conversão entre os grupos, pode-se concluir que:\n",
    "\n",
    "1. Em ambos os cenários usando dados brutos e filtrados, a conversão do grupo B é melhor do que a do grupo A;\n",
    "    \n",
    "2. Filtrar os usuários anômalos aumentou a diferença relativa (de 13.8% para 16.6%);\n",
    "    \n",
    "3. A significância estatística foi preservada (p < 0.05) mesmo após filtragem, o que reforça a confiança na conclusão de que o grupo B tem uma taxa de conversão superior à do grupo A.\n",
    "\n",
    "\n",
    "    \n",
    "\n",
    "Sobre a significância estatística da diferença no tamanho médio do pedido entre os grupos, pode-se concluir que:\n",
    "\n",
    "\n",
    "\n",
    "1. Usuários anômalos estavam inflando a média do grupo B. Após removê-los, o grupo B passa a ter receita média inferior à do grupo A.\n",
    "    \n",
    "2. Em ambos os casos, as diferenças não são estatisticamente significativas (p-value > 0.05), então não podemos concluir que um grupo é consistentemente melhor que o outro.\n",
    "    "
   ]
  },
  {
   "cell_type": "markdown",
   "id": "a96d7132-4c85-4707-a0d4-2c228d097f01",
   "metadata": {},
   "source": [
    "<span style=\"color: black; font-family: Arial; font-size: 20px;\">\n",
    "Portanto,\n",
    "\n",
    "1. Houve uma diferença estatisticamente significativa na taxa de conversão. Tanto com dados brutos (p = 0.017) quanto com dados filtrados (p = 0.014), o p-valor está abaixo de 0.05, indicando uma diferença estatisticamente confiável entre os grupos.\n",
    "\n",
    "3. Mesmo o grupo B tendo ficado com uma receita menor do que o grupo A nos dados filtrados, o grupo B converte muito mais usuários. Isso pode compensar ou até superar a perda.\n",
    "\n",
    "4. A diferença se manteve (ou aumentou) após remover usuários anômalos, o que reforça a robustez dos resultados.\n",
    "\n",
    "5. Embora não tenha diferença estatisticamente significativa na receita média por pedido (p = 0.692 nos dados brutos e p = 0.635 nos filtrados), isso não invalida a superioridade na conversão."
   ]
  },
  {
   "cell_type": "markdown",
   "id": "e05acf30-e0e1-4dce-8dc7-bbe5d026c227",
   "metadata": {},
   "source": [
    "<span style=\"color: black; font-family: Arial; font-size: 20px;\">\n",
    "O ideal seria rodar o teste por mais tempo para coletar mais dados, porém o custo de continuar rodando esse teste por mais tempo seria maior. Mas se uma decisão tivesse que ser tomada agora, ela seria de parar o teste e considerar o grupo B o líder."
   ]
  },
  {
   "cell_type": "code",
   "execution_count": null,
   "id": "8eb652ae-6a4e-43e6-af80-7d9ec0d33738",
   "metadata": {},
   "outputs": [],
   "source": [
    "import nbformat\n",
    "from googletrans import Translator\n",
    "\n",
    "# Caminho do notebook original em português\n",
    "arquivo_origem = \"analise_PT.ipynb\"\n",
    "\n",
    "# Caminho do novo notebook em inglês\n",
    "arquivo_destino = \"analysis_EN.ipynb\"\n",
    "\n",
    "# Carregar o notebook\n",
    "nb = nbformat.read(arquivo_origem, as_version=4)\n",
    "\n",
    "# Inicializar tradutor\n",
    "translator = Translator()\n",
    "\n",
    "# Traduzir apenas células Markdown\n",
    "for cell in nb.cells:\n",
    "    if cell.cell_type == \"markdown\":\n",
    "        try:\n",
    "            traducao = translator.translate(cell.source, src='pt', dest='en')\n",
    "            cell.source = traducao.text\n",
    "        except Exception as e:\n",
    "            print(f\"Erro ao traduzir célula: {e}\")\n",
    "\n",
    "# Salvar novo notebook traduzido\n",
    "nbformat.write(nb, arquivo_destino)\n",
    "\n",
    "print(f\"Tradução concluída. Novo arquivo salvo como: {arquivo_destino}\")"
   ]
  }
 ],
 "metadata": {
  "kernelspec": {
   "display_name": "Python [conda env:base] *",
   "language": "python",
   "name": "conda-base-py"
  },
  "language_info": {
   "codemirror_mode": {
    "name": "ipython",
    "version": 3
   },
   "file_extension": ".py",
   "mimetype": "text/x-python",
   "name": "python",
   "nbconvert_exporter": "python",
   "pygments_lexer": "ipython3",
   "version": "3.12.7"
  }
 },
 "nbformat": 4,
 "nbformat_minor": 5
}
